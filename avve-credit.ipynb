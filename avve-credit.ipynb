{
 "cells": [
  {
   "cell_type": "code",
   "execution_count": 1,
   "id": "d3dff413",
   "metadata": {},
   "outputs": [],
   "source": [
    "import pandas as pd\n",
    "import numpy as np \n",
    "import seaborn as sns\n",
    "import matplotlib.pyplot as plt\n",
    "import json"
   ]
  },
  {
   "cell_type": "code",
   "execution_count": 5,
   "id": "be3afdda",
   "metadata": {},
   "outputs": [],
   "source": [
    "with open(\"data/user-wallet-transactions.json\", \"r\") as f:\n",
    "    data = json.load(f)"
   ]
  },
  {
   "cell_type": "code",
   "execution_count": 42,
   "id": "ad328af0",
   "metadata": {},
   "outputs": [
    {
     "data": {
      "text/plain": [
       "{'_id': {'$oid': '681d38fed63812d4655f571a'},\n",
       " 'userWallet': '0x00000000001accfa9cef68cf5371a23025b6d4b6',\n",
       " 'network': 'polygon',\n",
       " 'protocol': 'aave_v2',\n",
       " 'txHash': '0x695c69acf608fbf5d38e48ca5535e118cc213a89e3d6d2e66e6b0e3b2e8d4190',\n",
       " 'logId': '0x695c69acf608fbf5d38e48ca5535e118cc213a89e3d6d2e66e6b0e3b2e8d4190_Deposit',\n",
       " 'timestamp': 1629178166,\n",
       " 'blockNumber': 1629178166,\n",
       " 'action': 'deposit',\n",
       " 'actionData': {'type': 'Deposit',\n",
       "  'amount': '2000000000',\n",
       "  'assetSymbol': 'USDC',\n",
       "  'assetPriceUSD': '0.9938318274296357543568636362026045',\n",
       "  'poolId': '0x2791bca1f2de4661ed88a30c99a7a9449aa84174',\n",
       "  'userId': '0x00000000001accfa9cef68cf5371a23025b6d4b6'},\n",
       " '__v': 0,\n",
       " 'createdAt': {'$date': '2025-05-08T23:06:39.465Z'},\n",
       " 'updatedAt': {'$date': '2025-05-08T23:06:39.465Z'}}"
      ]
     },
     "execution_count": 42,
     "metadata": {},
     "output_type": "execute_result"
    }
   ],
   "source": [
    "data[0]\n",
    "\n"
   ]
  },
  {
   "cell_type": "code",
   "execution_count": 46,
   "id": "f0d67a14",
   "metadata": {},
   "outputs": [],
   "source": [
    "from sklearn.ensemble import RandomForestClassifier\n",
    "\n",
    "\n",
    "rfc = RandomForestClassifier(random_state=42)"
   ]
  },
  {
   "cell_type": "code",
   "execution_count": 48,
   "id": "44384918",
   "metadata": {},
   "outputs": [],
   "source": [
    "import pickle \n",
    "\n",
    "with open(\"avve_credit.pkl\", \"wb\") as f:\n",
    "\tpickle.dump(rfc, f)"
   ]
  },
  {
   "cell_type": "code",
   "execution_count": 17,
   "id": "e98a918b",
   "metadata": {},
   "outputs": [],
   "source": [
    "def normalize_amount(amount_str, decimals=6):\n",
    "    return float(amount_str) / (10 ** decimals)"
   ]
  },
  {
   "cell_type": "code",
   "execution_count": null,
   "id": "f513ee6e",
   "metadata": {},
   "outputs": [],
   "source": [
    "from collections import defaultdict\n",
    "\n",
    "def process_wallets_from_df(df):\n",
    "    wallet_stats = defaultdict(lambda: {\n",
    "        \"total_deposit\": 0,\n",
    "        \"total_borrow\": 0,\n",
    "        \"total_repay\": 0,\n",
    "        \"num_liquidations\": 0\n",
    "    })\n",
    "\n",
    "    for _, row in df.iterrows():\n",
    "        wallet = row[\"userWallet\"]\n",
    "        action = row[\"action\"]\n",
    "        amount_raw = row.get(\"actionData.amount\", \"0\")\n",
    "        price_usd = float(row.get(\"actionData.assetPriceUSD\", 1))\n",
    "\n",
    "        amount = normalize_amount(amount_raw)\n",
    "        usd_value = amount * price_usd\n",
    "\n",
    "        if action == \"deposit\":\n",
    "            wallet_stats[wallet][\"total_deposit\"] += usd_value\n",
    "        elif action == \"borrow\":\n",
    "            wallet_stats[wallet][\"total_borrow\"] += usd_value\n",
    "        elif action == \"repay\":\n",
    "            wallet_stats[wallet][\"total_repay\"] += usd_value\n",
    "        elif action == \"liquidationcall\":\n",
    "            wallet_stats[wallet][\"num_liquidations\"] += 1\n",
    "\n",
    "    return wallet_stats"
   ]
  },
  {
   "cell_type": "code",
   "execution_count": null,
   "id": "a1949e34",
   "metadata": {},
   "outputs": [],
   "source": [
    "def calculate_score(stats):\n",
    "    scores = []\n",
    "    for wallet, s in stats.items():\n",
    "        score = 500  \n",
    "        repay_ratio = s[\"total_repay\"] / s[\"total_borrow\"] if s[\"total_borrow\"] else 1\n",
    "\n",
    "        if repay_ratio > 0.95:\n",
    "            score += 300\n",
    "        elif repay_ratio > 0.75:\n",
    "            score += 150\n",
    "        elif repay_ratio < 0.5:\n",
    "            score -= 100\n",
    "\n",
    "        if s[\"num_liquidations\"] > 0:\n",
    "            score -= 100 * s[\"num_liquidations\"]\n",
    "\n",
    "        if s[\"total_deposit\"] > s[\"total_borrow\"]:\n",
    "            score += 50\n",
    "\n",
    "        score = max(0, min(score, 1000))\n",
    "        scores.append({\"wallet\": wallet, \"score\": int(score)})\n",
    "\n",
    "    return scores"
   ]
  },
  {
   "cell_type": "code",
   "execution_count": 28,
   "id": "30a0826b",
   "metadata": {},
   "outputs": [],
   "source": [
    "def save_scores(scores, out_path=\"wallet_scores.csv\"):\n",
    "    df = pd.DataFrame(scores)\n",
    "    df.to_csv(out_path, index=False)"
   ]
  },
  {
   "cell_type": "code",
   "execution_count": 30,
   "id": "c1976e4e",
   "metadata": {},
   "outputs": [
    {
     "name": "stdout",
     "output_type": "stream",
     "text": [
      "Processing wallet stats...\n",
      "Calculating scores...\n",
      "Saving to CSV...\n",
      "Done.\n"
     ]
    }
   ],
   "source": [
    "print(\"Processing wallet stats...\")\n",
    "stats = process_wallets_from_df(df)\n",
    "\n",
    "print(\"Calculating scores...\")\n",
    "scores = calculate_score(stats)\n",
    "\n",
    "print(\"Saving to CSV...\")\n",
    "save_scores(scores)\n",
    "print(\"Done.\")"
   ]
  },
  {
   "cell_type": "code",
   "execution_count": null,
   "id": "c82b4e3d",
   "metadata": {},
   "outputs": [],
   "source": [
    "def categorize_wallet(row):\n",
    "    if row['total_borrowed'] > 0 and row['total_repaid'] / row['total_borrowed'] > 0.95 and row['num_liquidations'] == 0:\n",
    "        return 'Good Borrower'\n",
    "    elif row['total_borrowed'] > 0 and row['num_liquidations'] > 0:\n",
    "        return 'Liquidated/Suspicious'\n",
    "    elif row['total_borrowed'] == 0 and row['num_deposits'] > 0:\n",
    "        return 'Depositor Only'\n",
    "    else:\n",
    "        return 'Other'\n",
    "\n",
    "features_df['category'] = features_df.apply(categorize_wallet, axis=1)\n",
    "\n",
    "category_counts = features_df['category'].value_counts()\n",
    "\n"
   ]
  },
  {
   "cell_type": "code",
   "execution_count": null,
   "id": "943af701",
   "metadata": {},
   "outputs": [
    {
     "data": {
      "image/png": "[encoded data removed]",
      "text/plain": [
       "<Figure size 700x400 with 1 Axes>"
      ]
     },
     "metadata": {},
     "output_type": "display_data"
    }
   ],
   "source": [
    "plt.figure(figsize=(7,4))\n",
    "sns.barplot(x=category_counts.index, y=category_counts.values)\n",
    "plt.ylabel('Number of Wallets')\n",
    "plt.xlabel('Wallet Category')\n",
    "plt.title('Wallet Category Distribution')\n",
    "plt.show()"
   ]
  },
  {
   "cell_type": "code",
   "execution_count": 34,
   "id": "feb1b343",
   "metadata": {},
   "outputs": [
    {
     "name": "stdout",
     "output_type": "stream",
     "text": [
      "Category counts:\n",
      "category\n",
      "Depositor Only           1728\n",
      "Other                     973\n",
      "Good Borrower             695\n",
      "Liquidated/Suspicious     101\n",
      "Name: count, dtype: int64\n",
      "\n",
      "Score ranges by category:\n",
      "Depositor Only: min=500, max=500, mean=500.0\n",
      "Other: min=400, max=600, mean=428.0\n",
      "Good Borrower: min=700, max=700, mean=700.0\n",
      "Liquidated/Suspicious: min=0, max=600, mean=266.3\n"
     ]
    }
   ],
   "source": [
    "print(\"Category counts:\")\n",
    "print(category_counts)\n",
    "print(\"\\nScore ranges by category:\")\n",
    "for cat in category_counts.index:\n",
    "    scores = features_df[features_df['category'] == cat]['score']\n",
    "    print(f\"{cat}: min={scores.min()}, max={scores.max()}, mean={scores.mean():.1f}\")"
   ]
  },
  {
   "cell_type": "code",
   "execution_count": 45,
   "id": "80f57176",
   "metadata": {},
   "outputs": [
    {
     "name": "stdout",
     "output_type": "stream",
     "text": [
      "| Score Range | Wallet Count |\n",
      "|-------------|---------------|\n",
      "| 0-100 | 12 |\n",
      "| 101-200 | 8 |\n",
      "| 201-300 | 21 |\n",
      "| 301-400 | 31 |\n",
      "| 401-500 | 694 |\n",
      "| 501-600 | 92 |\n",
      "| 601-700 | 12 |\n",
      "| 701-800 | 78 |\n",
      "| 801-900 | 2406 |\n",
      "| 901-1000 | 0 |\n"
     ]
    }
   ],
   "source": [
    "df = pd.read_csv(\"wallet_scores.csv\")\n",
    "\n",
    "# Step 1: Define bins and labels correctly\n",
    "bins = [0, 100, 200, 300, 400, 500, 600, 700, 800, 900, 1000.1]  # Add small buffer for 1000\n",
    "labels = [\"0-100\", \"101-200\", \"201-300\", \"301-400\", \"401-500\", \n",
    "          \"501-600\", \"601-700\", \"701-800\", \"801-900\", \"901-1000\"]\n",
    "\n",
    "# Step 2: Assign score ranges\n",
    "df['score_range'] = pd.cut(df['score'], bins=bins, labels=labels, right=False)\n",
    "\n",
    "# Step 3: Count wallet scores in each range\n",
    "distribution = df['score_range'].value_counts().sort_index()\n",
    "\n",
    "# Step 4: Print as markdown table for analysis.md\n",
    "print(\"| Score Range | Wallet Count |\")\n",
    "print(\"|-------------|---------------|\")\n",
    "for range_label, count in distribution.items():\n",
    "    print(f\"| {range_label} | {count} |\")\n"
   ]
  },
  {
   "cell_type": "code",
   "execution_count": null,
   "id": "20417706",
   "metadata": {},
   "outputs": [],
   "source": []
  }
 ],
 "metadata": {
  "kernelspec": {
   "display_name": "tf_env",
   "language": "python",
   "name": "python3"
  },
  "language_info": {
   "codemirror_mode": {
    "name": "ipython",
    "version": 3
   },
   "file_extension": ".py",
   "mimetype": "text/x-python",
   "name": "python",
   "nbconvert_exporter": "python",
   "pygments_lexer": "ipython3",
   "version": "3.9.21"
  }
 },
 "nbformat": 4,
 "nbformat_minor": 5
}
